{
 "cells": [
  {
   "cell_type": "code",
   "execution_count": 1,
   "metadata": {},
   "outputs": [],
   "source": [
    "import os\n",
    "import codecs\n",
    "import re\n",
    "from time import sleep"
   ]
  },
  {
   "cell_type": "code",
   "execution_count": 2,
   "metadata": {},
   "outputs": [
    {
     "name": "stdout",
     "output_type": "stream",
     "text": [
      "Requirement already up-to-date: google-cloud-translate in c:\\users\\user\\anaconda3\\lib\\site-packages (1.3.3)\n",
      "Requirement already satisfied, skipping upgrade: google-cloud-core<0.30dev,>=0.29.0 in c:\\users\\user\\anaconda3\\lib\\site-packages (from google-cloud-translate) (0.29.1)\n",
      "Requirement already satisfied, skipping upgrade: google-api-core<2.0.0dev,>=1.6.0 in c:\\users\\user\\anaconda3\\lib\\site-packages (from google-cloud-translate) (1.7.0)\n",
      "Requirement already satisfied, skipping upgrade: pytz in c:\\users\\user\\anaconda3\\lib\\site-packages (from google-api-core<2.0.0dev,>=1.6.0->google-cloud-translate) (2018.7)\n",
      "Requirement already satisfied, skipping upgrade: requests<3.0.0dev,>=2.18.0 in c:\\users\\user\\anaconda3\\lib\\site-packages (from google-api-core<2.0.0dev,>=1.6.0->google-cloud-translate) (2.21.0)\n",
      "Requirement already satisfied, skipping upgrade: setuptools>=34.0.0 in c:\\users\\user\\anaconda3\\lib\\site-packages (from google-api-core<2.0.0dev,>=1.6.0->google-cloud-translate) (40.6.3)\n",
      "Requirement already satisfied, skipping upgrade: six>=1.10.0 in c:\\users\\user\\anaconda3\\lib\\site-packages (from google-api-core<2.0.0dev,>=1.6.0->google-cloud-translate) (1.12.0)\n",
      "Requirement already satisfied, skipping upgrade: protobuf>=3.4.0 in c:\\users\\user\\anaconda3\\lib\\site-packages (from google-api-core<2.0.0dev,>=1.6.0->google-cloud-translate) (3.6.1)\n",
      "Requirement already satisfied, skipping upgrade: google-auth<2.0dev,>=0.4.0 in c:\\users\\user\\anaconda3\\lib\\site-packages (from google-api-core<2.0.0dev,>=1.6.0->google-cloud-translate) (1.6.2)\n",
      "Requirement already satisfied, skipping upgrade: googleapis-common-protos!=1.5.4,<2.0dev,>=1.5.3 in c:\\users\\user\\anaconda3\\lib\\site-packages (from google-api-core<2.0.0dev,>=1.6.0->google-cloud-translate) (1.5.6)\n",
      "Requirement already satisfied, skipping upgrade: chardet<3.1.0,>=3.0.2 in c:\\users\\user\\anaconda3\\lib\\site-packages (from requests<3.0.0dev,>=2.18.0->google-api-core<2.0.0dev,>=1.6.0->google-cloud-translate) (3.0.4)\n",
      "Requirement already satisfied, skipping upgrade: idna<2.9,>=2.5 in c:\\users\\user\\anaconda3\\lib\\site-packages (from requests<3.0.0dev,>=2.18.0->google-api-core<2.0.0dev,>=1.6.0->google-cloud-translate) (2.8)\n",
      "Requirement already satisfied, skipping upgrade: urllib3<1.25,>=1.21.1 in c:\\users\\user\\anaconda3\\lib\\site-packages (from requests<3.0.0dev,>=2.18.0->google-api-core<2.0.0dev,>=1.6.0->google-cloud-translate) (1.24.1)\n",
      "Requirement already satisfied, skipping upgrade: certifi>=2017.4.17 in c:\\users\\user\\anaconda3\\lib\\site-packages (from requests<3.0.0dev,>=2.18.0->google-api-core<2.0.0dev,>=1.6.0->google-cloud-translate) (2018.11.29)\n",
      "Requirement already satisfied, skipping upgrade: cachetools>=2.0.0 in c:\\users\\user\\anaconda3\\lib\\site-packages (from google-auth<2.0dev,>=0.4.0->google-api-core<2.0.0dev,>=1.6.0->google-cloud-translate) (3.1.0)\n",
      "Requirement already satisfied, skipping upgrade: pyasn1-modules>=0.2.1 in c:\\users\\user\\anaconda3\\lib\\site-packages (from google-auth<2.0dev,>=0.4.0->google-api-core<2.0.0dev,>=1.6.0->google-cloud-translate) (0.2.4)\n",
      "Requirement already satisfied, skipping upgrade: rsa>=3.1.4 in c:\\users\\user\\anaconda3\\lib\\site-packages (from google-auth<2.0dev,>=0.4.0->google-api-core<2.0.0dev,>=1.6.0->google-cloud-translate) (4.0)\n",
      "Requirement already satisfied, skipping upgrade: pyasn1<0.5.0,>=0.4.1 in c:\\users\\user\\anaconda3\\lib\\site-packages (from pyasn1-modules>=0.2.1->google-auth<2.0dev,>=0.4.0->google-api-core<2.0.0dev,>=1.6.0->google-cloud-translate) (0.4.5)\n"
     ]
    }
   ],
   "source": [
    "# get google cloud\n",
    "!pip install --upgrade google-cloud-translate\n",
    "from google.cloud import translate"
   ]
  },
  {
   "cell_type": "code",
   "execution_count": 3,
   "metadata": {},
   "outputs": [
    {
     "name": "stdout",
     "output_type": "stream",
     "text": [
      "Requirement already up-to-date: nltk in c:\\users\\user\\anaconda3\\lib\\site-packages (3.4)\n",
      "Requirement already satisfied, skipping upgrade: six in c:\\users\\user\\anaconda3\\lib\\site-packages (from nltk) (1.12.0)\n",
      "Requirement already satisfied, skipping upgrade: singledispatch in c:\\users\\user\\anaconda3\\lib\\site-packages (from nltk) (3.4.0.3)\n"
     ]
    }
   ],
   "source": [
    "# get nltk to calculate bleu score\n",
    "!pip install --upgrade nltk\n",
    "from nltk.translate.bleu_score import corpus_bleu, sentence_bleu"
   ]
  },
  {
   "cell_type": "markdown",
   "metadata": {},
   "source": [
    "# Zulu"
   ]
  },
  {
   "cell_type": "code",
   "execution_count": 40,
   "metadata": {},
   "outputs": [
    {
     "name": "stdout",
     "output_type": "stream",
     "text": [
      "BLEU1: 27.090\n",
      "BLEU4: 7.546\n"
     ]
    }
   ],
   "source": [
    "# load data\n",
    "en_file = codecs.open('../clean/en_zu/enzu_parallel.test.en', 'r')\n",
    "zu_file = codecs.open('../clean/en_zu/enzu_parallel.test.zu', 'r')\n",
    "\n",
    "en_sents = [re.sub(' +', ' ', line.rstrip(' \\n')) for line in en_file.readlines()]\n",
    "zu_sents = [re.sub(' +', ' ', line.rstrip(' \\n')) for line in zu_file.readlines()]\n",
    "\n",
    "# translate\n",
    "if not os.path.exists('./translated.zu'):\n",
    "    trans_file = codecs.open('./translated.zu','w')\n",
    "    \n",
    "    # translate 20 sentences at a time\n",
    "    translate_client = translate.Client()\n",
    "    target = 'zu'\n",
    "    for i in range(0, len(en_sents) // 20):\n",
    "        translations = translate_client.translate(\n",
    "            en_sents[i*20:(i+1)*20],\n",
    "            target_language=target,\n",
    "            source_language='en'\n",
    "        )\n",
    "\n",
    "        for translation in translations:\n",
    "            trans_file.write(translation['translatedText'])\n",
    "            trans_file.write('\\n')\n",
    "\n",
    "        print(\"Translated %d sentences\" %((i+1)*20))\n",
    "        sleep(1.5)\n",
    "        \n",
    "    trans_file.close()\n",
    "    \n",
    "# calculate bleu score\n",
    "trans_file = codecs.open('./translated.zu', 'r')\n",
    "trans_sents = [line.rstrip('\\n').split(' ') for line in trans_file.readlines()]\n",
    "num_trans = len(trans_sents)\n",
    "\n",
    "zu_refs = [[re.sub(r'\\s+([?.!,\"])', r'\\1', line).split(' ')] for line in zu_sents]\n",
    "\n",
    "bleu_1 = corpus_bleu(zu_refs[:num_trans], trans_sents, weights=(1, 0, 0, 0))*100\n",
    "bleu_4 = corpus_bleu(zu_refs[:num_trans], trans_sents)*100\n",
    "\n",
    "print('BLEU1: %.3f' %bleu_1)\n",
    "print('BLEU4: %.3f' %bleu_4)\n",
    "\n",
    "trans_file.close()\n",
    "en_file.close()\n",
    "zu_file.close()"
   ]
  },
  {
   "cell_type": "code",
   "execution_count": 15,
   "metadata": {},
   "outputs": [
    {
     "data": {
      "text/plain": [
       "2880"
      ]
     },
     "execution_count": 15,
     "metadata": {},
     "output_type": "execute_result"
    }
   ],
   "source": [
    "num_trans"
   ]
  },
  {
   "cell_type": "code",
   "execution_count": 37,
   "metadata": {},
   "outputs": [
    {
     "name": "stdout",
     "output_type": "stream",
     "text": [
      "CS .0171 Annual contract for the supply , delivery , installation , testing and commissioning of fibre network monitoring system for 12/24/36 month period Closing date: 18 May 2007\n",
      "[['CS.0171', 'Inkontileka', 'yonyaka', 'yokuthengisela,', 'ukudiliva,', 'ukufaka,', 'ukuhlola', 'nokubeka', 'esimweni', 'sokusebenza', 'i-fibre', 'network', 'monitoring', 'system', 'izinyanga', 'ezingu', '12/24/36', 'Kuvalwa:', '18', 'Meyi', '2007']]\n",
      "['CS', '.0171', 'Inkontileka', 'yonyaka', 'yokuhlinzeka,', 'ukulethwa,', 'ukufakwa,', 'ukuhlolwa', 'nokuthunyelwa', 'kohlelo', 'lokuqapha', 'kwenethiwekhi', 'ye-fibre', 'ngo', '12/24/36', 'inyanga', 'inyanga', 'yokuvalwa:', '18', 'Meyi', '2007']\n",
      "2.6616657200018398e-76\n"
     ]
    }
   ],
   "source": [
    "n = 65\n",
    "\n",
    "print(en_sents[n])\n",
    "print(zu_refs[n])\n",
    "print(trans_sents[n])\n",
    "print(sentence_bleu(zu_refs[n], trans_sents[n])*100)\n"
   ]
  },
  {
   "cell_type": "code",
   "execution_count": 107,
   "metadata": {},
   "outputs": [
    {
     "data": {
      "text/plain": [
       "'Imibhalo yamathenda itholakala eThekwini Electricity , 1 Jelf Taylor Crescent , Durban ngo 08:00 kuya ku 15:00 , ngeMisombuluko kuya'"
      ]
     },
     "execution_count": 107,
     "metadata": {},
     "output_type": "execute_result"
    }
   ],
   "source": [
    "zu_sents[0]"
   ]
  },
  {
   "cell_type": "markdown",
   "metadata": {},
   "source": [
    "# Afrikaans"
   ]
  },
  {
   "cell_type": "code",
   "execution_count": 161,
   "metadata": {},
   "outputs": [
    {
     "name": "stdout",
     "output_type": "stream",
     "text": [
      "BLEU1: 68.814\n",
      "BLEU4: 41.181\n"
     ]
    }
   ],
   "source": [
    "# load data\n",
    "en_file = codecs.open('../clean/en_af/enaf_parallel.test.en', 'r', 'utf-8')\n",
    "af_file = codecs.open('../clean/en_af/enaf_parallel.test.af', 'r', 'utf-8')\n",
    "\n",
    "en_sents = [re.sub(' +', ' ', line.rstrip(' \\n')) for line in en_file.readlines()]\n",
    "af_sents = [re.sub(' +', ' ', line.rstrip(' \\n')) for line in af_file.readlines()]\n",
    "\n",
    "# translate\n",
    "if not os.path.exists('./translated.af'):\n",
    "    trans_file = codecs.open('./translated.af','w', 'utf-8')\n",
    "    \n",
    "    # translate 20 sentences at a time\n",
    "    translate_client = translate.Client()\n",
    "    target = 'af'\n",
    "    for i in range(0, len(en_sents) // 20):\n",
    "        translations = translate_client.translate(\n",
    "            en_sents[i*20:(i+1)*20],\n",
    "            target_language=target,\n",
    "            source_language='en'\n",
    "        )\n",
    "\n",
    "        for translation in translations:\n",
    "            trans_file.write(translation['translatedText'])\n",
    "            trans_file.write('\\n')\n",
    "\n",
    "        print(\"Translated %d sentences\" %((i+1)*20))\n",
    "        sleep(2)\n",
    "        \n",
    "    trans_file.close()\n",
    "    \n",
    "# processing for consistency between strings\n",
    "trans_file = codecs.open('./translated.af', 'r')\n",
    "trans_sents = [line.rstrip('\\n') for line in trans_file.readlines()]\n",
    "trans_sents = [re.sub(r'(&gt;)', r' >', line) for line in trans_sents]\n",
    "trans_sents = [re.sub(r'Ã«', r'ë', line) for line in trans_sents]\n",
    "trans_sents = [re.sub(r'&#39;', r\"'\", line) for line in trans_sents]\n",
    "#trans_sents = [re.sub(r'\\)]\n",
    "trans_sents = [re.sub(r'(\\w)([?.!,\"/()])', r'\\1 \\2', line) for line in trans_sents]\n",
    "trans_sents = [re.sub(r'([?.!,\"/()])(\\w)', r'\\1 \\2', line) for line in trans_sents]\n",
    "trans_refs = [line.split(' ') for line in trans_sents]\n",
    "\n",
    "num_trans = len(trans_sents)\n",
    "\n",
    "af_sents = [re.sub(r'(\\w)([?.!,\"/()])', r'\\1 \\2', line) for line in af_sents]\n",
    "af_sents = [re.sub(r'([?.!,\"/()])(\\w)', r'\\1 \\2', line) for line in af_sents]\n",
    "af_refs = [[line.rstrip('\\r').split(' ')] for line in af_sents]\n",
    "\n",
    "# calculate bleu score\n",
    "bleu_1 = corpus_bleu(af_refs[:num_trans], trans_refs, weights=(1, 0, 0, 0))*100\n",
    "bleu_4 = corpus_bleu(af_refs[:num_trans], trans_refs)*100\n",
    "\n",
    "print('BLEU1: %.3f' %bleu_1)\n",
    "print('BLEU4: %.3f' %bleu_4)\n",
    "\n",
    "trans_file.close()\n",
    "en_file.close()\n",
    "af_file.close()"
   ]
  },
  {
   "cell_type": "code",
   "execution_count": 157,
   "metadata": {},
   "outputs": [
    {
     "name": "stdout",
     "output_type": "stream",
     "text": [
      "The Western Cape ARV programme aims to establish 36 accredited ARV treatment sites by March 2005 and to provide daily ARV treatment to 6,000 patients (estimated to be half of those in need of treatment) by March 2005.\r\n",
      "[['Die', 'Wes-Kaapse', 'TRV-program', 'wil', 'teen', 'Maart', '2005', '36', 'geakkrediteerde', 'TRV-behandelingspunte', 'op', 'die', 'been', 'hê', 'en', 'daagliks', 'TRV-behandeling', 'aan', '6', ',', '000', 'pasiënte', 'verskaf', '.', '(Daar', 'word', 'beraam', 'dat', 'dit', 'die', 'helfte', 'van', 'die', 'mense', 'is', 'wat', 'behandeling', 'nodig', 'het', '.)']]\n",
      "['Die', 'Wes-Kaapse', 'ARV-program', 'beoog', 'om', 'teen', 'Maart', '2005', '36', 'geakkrediteerde', 'ARV-behandelingsterreine', 'te', 'vestig', 'en', 'teen', 'Maart', '2005', 'elke', 'maand', '6', '000', 'pasiënte', '(na', 'raming', 'die', 'helfte', 'van', 'diegene', 'wat', 'behandeling', 'benodig),', 'te', 'voorsien', '.']\n",
      "6.197644091669366e-230\n"
     ]
    }
   ],
   "source": [
    "n = 113\n",
    "\n",
    "print(en_sents[n])\n",
    "print(af_refs[n])\n",
    "print(trans_refs[n])\n",
    "print(sentence_bleu(af_refs[n], trans_sents[n])*100)\n"
   ]
  },
  {
   "cell_type": "code",
   "execution_count": null,
   "metadata": {},
   "outputs": [],
   "source": []
  }
 ],
 "metadata": {
  "kernelspec": {
   "display_name": "Python 3",
   "language": "python",
   "name": "python3"
  },
  "language_info": {
   "codemirror_mode": {
    "name": "ipython",
    "version": 3
   },
   "file_extension": ".py",
   "mimetype": "text/x-python",
   "name": "python",
   "nbconvert_exporter": "python",
   "pygments_lexer": "ipython3",
   "version": "3.7.1"
  }
 },
 "nbformat": 4,
 "nbformat_minor": 2
}
