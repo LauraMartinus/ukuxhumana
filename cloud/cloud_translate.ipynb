{
 "cells": [
  {
   "cell_type": "code",
   "execution_count": 2,
   "metadata": {},
   "outputs": [],
   "source": [
    "import os\n",
    "import codecs\n",
    "import re\n",
    "from time import sleep"
   ]
  },
  {
   "cell_type": "code",
   "execution_count": 3,
   "metadata": {},
   "outputs": [
    {
     "name": "stdout",
     "output_type": "stream",
     "text": [
      "Collecting google-cloud-translate\n",
      "  Downloading https://files.pythonhosted.org/packages/9b/77/7007bf1ee38c98337cbf4e6cf5f619fb12b384cf7fb9503f4021911a7547/google_cloud_translate-1.3.3-py2.py3-none-any.whl\n",
      "Collecting google-cloud-core<0.30dev,>=0.29.0 (from google-cloud-translate)\n",
      "  Downloading https://files.pythonhosted.org/packages/0c/f2/3c225e7a69cb27d283b68bff867722bd066bc1858611180197f711815ea5/google_cloud_core-0.29.1-py2.py3-none-any.whl\n",
      "Collecting google-api-core<2.0.0dev,>=1.6.0 (from google-cloud-translate)\n",
      "  Downloading https://files.pythonhosted.org/packages/8b/01/13758ff9b970008ccf9e0dcc3b86d0e01937d7485b9a2c6142c9c2bdb4da/google_api_core-1.7.0-py2.py3-none-any.whl (64kB)\n",
      "Requirement already satisfied, skipping upgrade: requests<3.0.0dev,>=2.18.0 in c:\\users\\user\\anaconda3\\lib\\site-packages (from google-api-core<2.0.0dev,>=1.6.0->google-cloud-translate) (2.21.0)\n",
      "Requirement already satisfied, skipping upgrade: setuptools>=34.0.0 in c:\\users\\user\\anaconda3\\lib\\site-packages (from google-api-core<2.0.0dev,>=1.6.0->google-cloud-translate) (40.6.3)\n",
      "Requirement already satisfied, skipping upgrade: six>=1.10.0 in c:\\users\\user\\anaconda3\\lib\\site-packages (from google-api-core<2.0.0dev,>=1.6.0->google-cloud-translate) (1.12.0)\n",
      "Collecting google-auth<2.0dev,>=0.4.0 (from google-api-core<2.0.0dev,>=1.6.0->google-cloud-translate)\n",
      "  Downloading https://files.pythonhosted.org/packages/4e/85/71b2dfbf5b4241cd031cc333ed71f90a271074a97cb2c517bb65f07a1a90/google_auth-1.6.2-py2.py3-none-any.whl (73kB)\n",
      "Requirement already satisfied, skipping upgrade: pytz in c:\\users\\user\\anaconda3\\lib\\site-packages (from google-api-core<2.0.0dev,>=1.6.0->google-cloud-translate) (2018.7)\n",
      "Collecting protobuf>=3.4.0 (from google-api-core<2.0.0dev,>=1.6.0->google-cloud-translate)\n",
      "  Downloading https://files.pythonhosted.org/packages/77/78/a7f1ce761e2c738e209857175cd4f90a8562d1bde32868a8cd5290d58926/protobuf-3.6.1-py2.py3-none-any.whl (390kB)\n",
      "Collecting googleapis-common-protos!=1.5.4,<2.0dev,>=1.5.3 (from google-api-core<2.0.0dev,>=1.6.0->google-cloud-translate)\n",
      "  Downloading https://files.pythonhosted.org/packages/61/29/1549f61917eadd11650e42b78b4afcfe9cb467157af4510ab8cb59535f14/googleapis-common-protos-1.5.6.tar.gz\n",
      "Requirement already satisfied, skipping upgrade: certifi>=2017.4.17 in c:\\users\\user\\anaconda3\\lib\\site-packages (from requests<3.0.0dev,>=2.18.0->google-api-core<2.0.0dev,>=1.6.0->google-cloud-translate) (2018.11.29)\n",
      "Requirement already satisfied, skipping upgrade: idna<2.9,>=2.5 in c:\\users\\user\\anaconda3\\lib\\site-packages (from requests<3.0.0dev,>=2.18.0->google-api-core<2.0.0dev,>=1.6.0->google-cloud-translate) (2.8)\n",
      "Requirement already satisfied, skipping upgrade: urllib3<1.25,>=1.21.1 in c:\\users\\user\\anaconda3\\lib\\site-packages (from requests<3.0.0dev,>=2.18.0->google-api-core<2.0.0dev,>=1.6.0->google-cloud-translate) (1.24.1)\n",
      "Requirement already satisfied, skipping upgrade: chardet<3.1.0,>=3.0.2 in c:\\users\\user\\anaconda3\\lib\\site-packages (from requests<3.0.0dev,>=2.18.0->google-api-core<2.0.0dev,>=1.6.0->google-cloud-translate) (3.0.4)\n",
      "Collecting pyasn1-modules>=0.2.1 (from google-auth<2.0dev,>=0.4.0->google-api-core<2.0.0dev,>=1.6.0->google-cloud-translate)\n",
      "  Downloading https://files.pythonhosted.org/packages/da/98/8ddd9fa4d84065926832bcf2255a2b69f1d03330aa4d1c49cc7317ac888e/pyasn1_modules-0.2.4-py2.py3-none-any.whl (66kB)\n",
      "Collecting rsa>=3.1.4 (from google-auth<2.0dev,>=0.4.0->google-api-core<2.0.0dev,>=1.6.0->google-cloud-translate)\n",
      "  Downloading https://files.pythonhosted.org/packages/02/e5/38518af393f7c214357079ce67a317307936896e961e35450b70fad2a9cf/rsa-4.0-py2.py3-none-any.whl\n",
      "Collecting cachetools>=2.0.0 (from google-auth<2.0dev,>=0.4.0->google-api-core<2.0.0dev,>=1.6.0->google-cloud-translate)\n",
      "  Downloading https://files.pythonhosted.org/packages/39/2b/d87fc2369242bd743883232c463f28205902b8579cb68dcf5b11eee1652f/cachetools-3.1.0-py2.py3-none-any.whl\n",
      "Collecting pyasn1<0.5.0,>=0.4.1 (from pyasn1-modules>=0.2.1->google-auth<2.0dev,>=0.4.0->google-api-core<2.0.0dev,>=1.6.0->google-cloud-translate)\n",
      "  Downloading https://files.pythonhosted.org/packages/7b/7c/c9386b82a25115cccf1903441bba3cbadcfae7b678a20167347fa8ded34c/pyasn1-0.4.5-py2.py3-none-any.whl (73kB)\n",
      "Building wheels for collected packages: googleapis-common-protos\n",
      "  Running setup.py bdist_wheel for googleapis-common-protos: started\n",
      "  Running setup.py bdist_wheel for googleapis-common-protos: finished with status 'done'\n",
      "  Stored in directory: C:\\Users\\User\\AppData\\Local\\pip\\Cache\\wheels\\da\\6b\\81\\8573adcbe2aa2ecba92c341dfe19c5b5a733f4514297ba52b4\n",
      "Successfully built googleapis-common-protos\n",
      "Installing collected packages: pyasn1, pyasn1-modules, rsa, cachetools, google-auth, protobuf, googleapis-common-protos, google-api-core, google-cloud-core, google-cloud-translate\n",
      "Successfully installed cachetools-3.1.0 google-api-core-1.7.0 google-auth-1.6.2 google-cloud-core-0.29.1 google-cloud-translate-1.3.3 googleapis-common-protos-1.5.6 protobuf-3.6.1 pyasn1-0.4.5 pyasn1-modules-0.2.4 rsa-4.0\n"
     ]
    }
   ],
   "source": [
    "# get google cloud\n",
    "!pip install --upgrade google-cloud-translate\n",
    "from google.cloud import translate"
   ]
  },
  {
   "cell_type": "code",
   "execution_count": 4,
   "metadata": {},
   "outputs": [
    {
     "name": "stdout",
     "output_type": "stream",
     "text": [
      "Requirement already up-to-date: nltk in c:\\users\\user\\anaconda3\\lib\\site-packages (3.4)\n",
      "Requirement already satisfied, skipping upgrade: six in c:\\users\\user\\anaconda3\\lib\\site-packages (from nltk) (1.12.0)\n",
      "Requirement already satisfied, skipping upgrade: singledispatch in c:\\users\\user\\anaconda3\\lib\\site-packages (from nltk) (3.4.0.3)\n"
     ]
    }
   ],
   "source": [
    "# get nltk to calculate bleu score\n",
    "!pip install --upgrade nltk\n",
    "from nltk.translate.bleu_score import corpus_bleu, sentence_bleu"
   ]
  },
  {
   "cell_type": "markdown",
   "metadata": {},
   "source": [
    "# Zulu"
   ]
  },
  {
   "cell_type": "code",
   "execution_count": 39,
   "metadata": {},
   "outputs": [
    {
     "name": "stdout",
     "output_type": "stream",
     "text": [
      "7.546014989687105\n"
     ]
    }
   ],
   "source": [
    "# load data\n",
    "en_file = codecs.open('../clean/en_zu/enzu_parallel.test.en', 'r')\n",
    "zu_file = codecs.open('../clean/en_zu/enzu_parallel.test.zu', 'r')\n",
    "\n",
    "en_sents = [re.sub(' +', ' ', line.rstrip(' \\n')) for line in en_file.readlines()]\n",
    "zu_sents = [re.sub(' +', ' ', line.rstrip(' \\n')) for line in zu_file.readlines()]\n",
    "\n",
    "# translate\n",
    "if not os.path.exists('./translated.zu'):\n",
    "    trans_file = codecs.open('./translated.zu','w')\n",
    "    \n",
    "    # translate 20 sentences at a time\n",
    "    translate_client = translate.Client()\n",
    "    target = 'zu'\n",
    "    for i in range(0, len(en_sents) // 20):\n",
    "        translations = translate_client.translate(\n",
    "            en_sents[i*20:(i+1)*20],\n",
    "            target_language=target,\n",
    "            source_language='en'\n",
    "        )\n",
    "\n",
    "        for translation in translations:\n",
    "            trans_file.write(translation['translatedText'])\n",
    "            trans_file.write('\\n')\n",
    "\n",
    "        print(\"Translated %d sentences\" %((i+1)*20))\n",
    "        sleep(1.5)\n",
    "        \n",
    "    trans_file.close()\n",
    "    \n",
    "# calculate bleu score\n",
    "trans_file = codecs.open('./translated.zu', 'r')\n",
    "trans_sents = [line.rstrip('\\n').split(' ') for line in trans_file.readlines()]\n",
    "num_trans = len(trans_sents)\n",
    "\n",
    "zu_refs = [[re.sub(r'\\s+([?.!,\"])', r'\\1', line).split(' ')] for line in zu_sents]\n",
    "\n",
    "bleu_score = corpus_bleu(zu_refs[:num_trans], trans_sents)\n",
    "\n",
    "print(bleu_score*100)\n",
    "\n",
    "trans_file.close()\n",
    "en_file.close()\n",
    "zu_file.close()"
   ]
  },
  {
   "cell_type": "code",
   "execution_count": 15,
   "metadata": {},
   "outputs": [
    {
     "data": {
      "text/plain": [
       "2880"
      ]
     },
     "execution_count": 15,
     "metadata": {},
     "output_type": "execute_result"
    }
   ],
   "source": [
    "num_trans"
   ]
  },
  {
   "cell_type": "code",
   "execution_count": 37,
   "metadata": {},
   "outputs": [
    {
     "name": "stdout",
     "output_type": "stream",
     "text": [
      "CS .0171 Annual contract for the supply , delivery , installation , testing and commissioning of fibre network monitoring system for 12/24/36 month period Closing date: 18 May 2007\n",
      "[['CS.0171', 'Inkontileka', 'yonyaka', 'yokuthengisela,', 'ukudiliva,', 'ukufaka,', 'ukuhlola', 'nokubeka', 'esimweni', 'sokusebenza', 'i-fibre', 'network', 'monitoring', 'system', 'izinyanga', 'ezingu', '12/24/36', 'Kuvalwa:', '18', 'Meyi', '2007']]\n",
      "['CS', '.0171', 'Inkontileka', 'yonyaka', 'yokuhlinzeka,', 'ukulethwa,', 'ukufakwa,', 'ukuhlolwa', 'nokuthunyelwa', 'kohlelo', 'lokuqapha', 'kwenethiwekhi', 'ye-fibre', 'ngo', '12/24/36', 'inyanga', 'inyanga', 'yokuvalwa:', '18', 'Meyi', '2007']\n",
      "2.6616657200018398e-76\n"
     ]
    }
   ],
   "source": [
    "n = 65\n",
    "\n",
    "print(en_sents[n])\n",
    "print(zu_refs[n])\n",
    "print(trans_sents[n])\n",
    "print(sentence_bleu(zu_refs[n], trans_sents[n])*100)\n"
   ]
  },
  {
   "cell_type": "code",
   "execution_count": 107,
   "metadata": {},
   "outputs": [
    {
     "data": {
      "text/plain": [
       "'Imibhalo yamathenda itholakala eThekwini Electricity , 1 Jelf Taylor Crescent , Durban ngo 08:00 kuya ku 15:00 , ngeMisombuluko kuya'"
      ]
     },
     "execution_count": 107,
     "metadata": {},
     "output_type": "execute_result"
    }
   ],
   "source": [
    "zu_sents[0]"
   ]
  },
  {
   "cell_type": "code",
   "execution_count": null,
   "metadata": {},
   "outputs": [],
   "source": []
  }
 ],
 "metadata": {
  "kernelspec": {
   "display_name": "Python 3",
   "language": "python",
   "name": "python3"
  },
  "language_info": {
   "codemirror_mode": {
    "name": "ipython",
    "version": 3
   },
   "file_extension": ".py",
   "mimetype": "text/x-python",
   "name": "python",
   "nbconvert_exporter": "python",
   "pygments_lexer": "ipython3",
   "version": "3.7.1"
  }
 },
 "nbformat": 4,
 "nbformat_minor": 2
}
