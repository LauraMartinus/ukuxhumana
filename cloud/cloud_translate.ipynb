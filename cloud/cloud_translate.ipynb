{
 "cells": [
  {
   "cell_type": "code",
   "execution_count": 1,
   "metadata": {
    "collapsed": true
   },
   "outputs": [],
   "source": [
    "import os\n",
    "import codecs"
   ]
  },
  {
   "cell_type": "code",
   "execution_count": 2,
   "metadata": {},
   "outputs": [
    {
     "name": "stdout",
     "output_type": "stream",
     "text": [
      "Requirement already up-to-date: google-cloud-translate in c:\\programdata\\anaconda3\\lib\\site-packages (1.3.3)\n",
      "Requirement already satisfied, skipping upgrade: google-api-core<2.0.0dev,>=1.6.0 in c:\\programdata\\anaconda3\\lib\\site-packages (from google-cloud-translate) (1.7.0)\n",
      "Requirement already satisfied, skipping upgrade: google-cloud-core<0.30dev,>=0.29.0 in c:\\programdata\\anaconda3\\lib\\site-packages (from google-cloud-translate) (0.29.1)\n",
      "Requirement already satisfied, skipping upgrade: six>=1.10.0 in c:\\programdata\\anaconda3\\lib\\site-packages (from google-api-core<2.0.0dev,>=1.6.0->google-cloud-translate) (1.11.0)\n",
      "Requirement already satisfied, skipping upgrade: google-auth<2.0dev,>=0.4.0 in c:\\programdata\\anaconda3\\lib\\site-packages (from google-api-core<2.0.0dev,>=1.6.0->google-cloud-translate) (1.6.2)\n",
      "Requirement already satisfied, skipping upgrade: setuptools>=34.0.0 in c:\\programdata\\anaconda3\\lib\\site-packages (from google-api-core<2.0.0dev,>=1.6.0->google-cloud-translate) (38.5.1)\n",
      "Requirement already satisfied, skipping upgrade: googleapis-common-protos!=1.5.4,<2.0dev,>=1.5.3 in c:\\programdata\\anaconda3\\lib\\site-packages (from google-api-core<2.0.0dev,>=1.6.0->google-cloud-translate) (1.5.6)\n",
      "Requirement already satisfied, skipping upgrade: requests<3.0.0dev,>=2.18.0 in c:\\programdata\\anaconda3\\lib\\site-packages (from google-api-core<2.0.0dev,>=1.6.0->google-cloud-translate) (2.18.4)\n",
      "Requirement already satisfied, skipping upgrade: pytz in c:\\programdata\\anaconda3\\lib\\site-packages (from google-api-core<2.0.0dev,>=1.6.0->google-cloud-translate) (2017.2)\n",
      "Requirement already satisfied, skipping upgrade: protobuf>=3.4.0 in c:\\programdata\\anaconda3\\lib\\site-packages (from google-api-core<2.0.0dev,>=1.6.0->google-cloud-translate) (3.6.1)\n",
      "Requirement already satisfied, skipping upgrade: rsa>=3.1.4 in c:\\programdata\\anaconda3\\lib\\site-packages (from google-auth<2.0dev,>=0.4.0->google-api-core<2.0.0dev,>=1.6.0->google-cloud-translate) (4.0)\n",
      "Requirement already satisfied, skipping upgrade: cachetools>=2.0.0 in c:\\programdata\\anaconda3\\lib\\site-packages (from google-auth<2.0dev,>=0.4.0->google-api-core<2.0.0dev,>=1.6.0->google-cloud-translate) (3.1.0)\n",
      "Requirement already satisfied, skipping upgrade: pyasn1-modules>=0.2.1 in c:\\programdata\\anaconda3\\lib\\site-packages (from google-auth<2.0dev,>=0.4.0->google-api-core<2.0.0dev,>=1.6.0->google-cloud-translate) (0.2.4)\n",
      "Requirement already satisfied, skipping upgrade: chardet<3.1.0,>=3.0.2 in c:\\programdata\\anaconda3\\lib\\site-packages (from requests<3.0.0dev,>=2.18.0->google-api-core<2.0.0dev,>=1.6.0->google-cloud-translate) (3.0.4)\n",
      "Requirement already satisfied, skipping upgrade: idna<2.7,>=2.5 in c:\\programdata\\anaconda3\\lib\\site-packages (from requests<3.0.0dev,>=2.18.0->google-api-core<2.0.0dev,>=1.6.0->google-cloud-translate) (2.6)\n",
      "Requirement already satisfied, skipping upgrade: urllib3<1.23,>=1.21.1 in c:\\programdata\\anaconda3\\lib\\site-packages (from requests<3.0.0dev,>=2.18.0->google-api-core<2.0.0dev,>=1.6.0->google-cloud-translate) (1.22)\n",
      "Requirement already satisfied, skipping upgrade: certifi>=2017.4.17 in c:\\programdata\\anaconda3\\lib\\site-packages (from requests<3.0.0dev,>=2.18.0->google-api-core<2.0.0dev,>=1.6.0->google-cloud-translate) (2018.11.29)\n",
      "Requirement already satisfied, skipping upgrade: pyasn1>=0.1.3 in c:\\programdata\\anaconda3\\lib\\site-packages (from rsa>=3.1.4->google-auth<2.0dev,>=0.4.0->google-api-core<2.0.0dev,>=1.6.0->google-cloud-translate) (0.4.5)\n"
     ]
    }
   ],
   "source": [
    "# get google cloud\n",
    "!pip install --upgrade google-cloud-translate\n",
    "from google.cloud import translate"
   ]
  },
  {
   "cell_type": "code",
   "execution_count": 26,
   "metadata": {},
   "outputs": [
    {
     "name": "stdout",
     "output_type": "stream",
     "text": [
      "Requirement already up-to-date: nltk in c:\\programdata\\anaconda3\\lib\\site-packages (3.4)\n",
      "Requirement already satisfied, skipping upgrade: six in c:\\programdata\\anaconda3\\lib\\site-packages (from nltk) (1.11.0)\n",
      "Requirement already satisfied, skipping upgrade: singledispatch in c:\\programdata\\anaconda3\\lib\\site-packages (from nltk) (3.4.0.3)\n"
     ]
    }
   ],
   "source": [
    "# get nltk to calculate bleu score\n",
    "!pip install --upgrade nltk\n",
    "from nltk.translate.bleu_score import corpus_bleu, sentence_bleu"
   ]
  },
  {
   "cell_type": "markdown",
   "metadata": {},
   "source": [
    "# Zulu"
   ]
  },
  {
   "cell_type": "code",
   "execution_count": 65,
   "metadata": {},
   "outputs": [
    {
     "name": "stdout",
     "output_type": "stream",
     "text": [
      "0.3292056420937072\n"
     ]
    }
   ],
   "source": [
    "import codecs\n",
    "\n",
    "# laod data\n",
    "en_file = codecs.open('../clean/en_zu/enzu_parallel.test.en', 'r')\n",
    "zu_file = codecs.open('../clean/en_zu/enzu_parallel.test.zu', 'r')\n",
    "\n",
    "en_sents = [line.rstrip('\\n') for line in en_file.readlines()]\n",
    "zu_sents = [line.rstrip('\\n') for line in zu_file.readlines()]\n",
    "\n",
    "# translate\n",
    "if not os.path.exists('./translated.zu'):\n",
    "    trans_file = codecs.open('./translated.zu','w')\n",
    "    \n",
    "    # translate 100 sentences at a time\n",
    "    translate_client = translate.Client()\n",
    "    target = 'zu'\n",
    "    for i in range(0, len(en_sents) // 100):\n",
    "        translations = translate_client.translate(\n",
    "            en_sents[i:i+100],\n",
    "            target_language=target,\n",
    "            source_language='en'\n",
    "        )\n",
    "\n",
    "        for translation in translations:\n",
    "            trans_file.write(translation['translatedText'])\n",
    "            trans_file.write('\\n')\n",
    "        \n",
    "    trans_file.close()\n",
    "    \n",
    "# calculate bleu score\n",
    "trans_file = codecs.open('./translated.zu', 'r')\n",
    "trans_sents = [line.rstrip('\\n').split(' ') for line in trans_file.readlines()]\n",
    "num_trans = len(trans_sents)\n",
    "\n",
    "zu_refs = [[line.split(' ')] for line in zu_sents]\n",
    "\n",
    "bleu_score = corpus_bleu(zu_refs[:num_trans], trans_sents)\n",
    "\n",
    "print(bleu_score*100)\n",
    "\n",
    "trans_file.close()\n",
    "en_file.close()\n",
    "zu_fie.clos"
   ]
  },
  {
   "cell_type": "code",
   "execution_count": null,
   "metadata": {
    "collapsed": true
   },
   "outputs": [],
   "source": []
  }
 ],
 "metadata": {
  "kernelspec": {
   "display_name": "Python [conda env:Anaconda3]",
   "language": "python",
   "name": "conda-env-Anaconda3-py"
  },
  "language_info": {
   "codemirror_mode": {
    "name": "ipython",
    "version": 3
   },
   "file_extension": ".py",
   "mimetype": "text/x-python",
   "name": "python",
   "nbconvert_exporter": "python",
   "pygments_lexer": "ipython3",
   "version": "3.6.3"
  }
 },
 "nbformat": 4,
 "nbformat_minor": 2
}
