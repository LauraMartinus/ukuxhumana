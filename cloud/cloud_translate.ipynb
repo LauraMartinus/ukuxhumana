{
 "cells": [
  {
   "cell_type": "code",
   "execution_count": 4,
   "metadata": {},
   "outputs": [],
   "source": [
    "import os\n",
    "import codecs\n",
    "import re\n",
    "from time import sleep"
   ]
  },
  {
   "cell_type": "code",
   "execution_count": 5,
   "metadata": {},
   "outputs": [
    {
     "name": "stdout",
     "output_type": "stream",
     "text": [
      "Requirement already up-to-date: google-cloud-translate in c:\\users\\user\\anaconda3\\lib\\site-packages (1.3.3)\n",
      "Requirement already satisfied, skipping upgrade: google-cloud-core<0.30dev,>=0.29.0 in c:\\users\\user\\anaconda3\\lib\\site-packages (from google-cloud-translate) (0.29.1)\n",
      "Requirement already satisfied, skipping upgrade: google-api-core<2.0.0dev,>=1.6.0 in c:\\users\\user\\anaconda3\\lib\\site-packages (from google-cloud-translate) (1.7.0)\n",
      "Requirement already satisfied, skipping upgrade: requests<3.0.0dev,>=2.18.0 in c:\\users\\user\\anaconda3\\lib\\site-packages (from google-api-core<2.0.0dev,>=1.6.0->google-cloud-translate) (2.21.0)\n",
      "Requirement already satisfied, skipping upgrade: protobuf>=3.4.0 in c:\\users\\user\\anaconda3\\lib\\site-packages (from google-api-core<2.0.0dev,>=1.6.0->google-cloud-translate) (3.6.1)\n",
      "Requirement already satisfied, skipping upgrade: google-auth<2.0dev,>=0.4.0 in c:\\users\\user\\anaconda3\\lib\\site-packages (from google-api-core<2.0.0dev,>=1.6.0->google-cloud-translate) (1.6.2)\n",
      "Requirement already satisfied, skipping upgrade: pytz in c:\\users\\user\\anaconda3\\lib\\site-packages (from google-api-core<2.0.0dev,>=1.6.0->google-cloud-translate) (2018.7)\n",
      "Requirement already satisfied, skipping upgrade: setuptools>=34.0.0 in c:\\users\\user\\anaconda3\\lib\\site-packages (from google-api-core<2.0.0dev,>=1.6.0->google-cloud-translate) (40.6.3)\n",
      "Requirement already satisfied, skipping upgrade: googleapis-common-protos!=1.5.4,<2.0dev,>=1.5.3 in c:\\users\\user\\anaconda3\\lib\\site-packages (from google-api-core<2.0.0dev,>=1.6.0->google-cloud-translate) (1.5.6)\n",
      "Requirement already satisfied, skipping upgrade: six>=1.10.0 in c:\\users\\user\\anaconda3\\lib\\site-packages (from google-api-core<2.0.0dev,>=1.6.0->google-cloud-translate) (1.12.0)\n",
      "Requirement already satisfied, skipping upgrade: certifi>=2017.4.17 in c:\\users\\user\\anaconda3\\lib\\site-packages (from requests<3.0.0dev,>=2.18.0->google-api-core<2.0.0dev,>=1.6.0->google-cloud-translate) (2018.11.29)\n",
      "Requirement already satisfied, skipping upgrade: urllib3<1.25,>=1.21.1 in c:\\users\\user\\anaconda3\\lib\\site-packages (from requests<3.0.0dev,>=2.18.0->google-api-core<2.0.0dev,>=1.6.0->google-cloud-translate) (1.24.1)\n",
      "Requirement already satisfied, skipping upgrade: idna<2.9,>=2.5 in c:\\users\\user\\anaconda3\\lib\\site-packages (from requests<3.0.0dev,>=2.18.0->google-api-core<2.0.0dev,>=1.6.0->google-cloud-translate) (2.8)\n",
      "Requirement already satisfied, skipping upgrade: chardet<3.1.0,>=3.0.2 in c:\\users\\user\\anaconda3\\lib\\site-packages (from requests<3.0.0dev,>=2.18.0->google-api-core<2.0.0dev,>=1.6.0->google-cloud-translate) (3.0.4)\n",
      "Requirement already satisfied, skipping upgrade: rsa>=3.1.4 in c:\\users\\user\\anaconda3\\lib\\site-packages (from google-auth<2.0dev,>=0.4.0->google-api-core<2.0.0dev,>=1.6.0->google-cloud-translate) (4.0)\n",
      "Requirement already satisfied, skipping upgrade: pyasn1-modules>=0.2.1 in c:\\users\\user\\anaconda3\\lib\\site-packages (from google-auth<2.0dev,>=0.4.0->google-api-core<2.0.0dev,>=1.6.0->google-cloud-translate) (0.2.4)\n",
      "Requirement already satisfied, skipping upgrade: cachetools>=2.0.0 in c:\\users\\user\\anaconda3\\lib\\site-packages (from google-auth<2.0dev,>=0.4.0->google-api-core<2.0.0dev,>=1.6.0->google-cloud-translate) (3.1.0)\n",
      "Requirement already satisfied, skipping upgrade: pyasn1>=0.1.3 in c:\\users\\user\\anaconda3\\lib\\site-packages (from rsa>=3.1.4->google-auth<2.0dev,>=0.4.0->google-api-core<2.0.0dev,>=1.6.0->google-cloud-translate) (0.4.5)\n"
     ]
    }
   ],
   "source": [
    "# get google cloud\n",
    "!pip install --upgrade google-cloud-translate\n",
    "from google.cloud import translate"
   ]
  },
  {
   "cell_type": "code",
   "execution_count": 6,
   "metadata": {},
   "outputs": [
    {
     "name": "stdout",
     "output_type": "stream",
     "text": [
      "Requirement already up-to-date: nltk in c:\\users\\user\\anaconda3\\lib\\site-packages (3.4)\n",
      "Requirement already satisfied, skipping upgrade: six in c:\\users\\user\\anaconda3\\lib\\site-packages (from nltk) (1.12.0)\n",
      "Requirement already satisfied, skipping upgrade: singledispatch in c:\\users\\user\\anaconda3\\lib\\site-packages (from nltk) (3.4.0.3)\n"
     ]
    }
   ],
   "source": [
    "# get nltk to calculate bleu score\n",
    "!pip install --upgrade nltk\n",
    "from nltk.translate.bleu_score import corpus_bleu, sentence_bleu"
   ]
  },
  {
   "cell_type": "markdown",
   "metadata": {},
   "source": [
    "# Zulu"
   ]
  },
  {
   "cell_type": "code",
   "execution_count": 40,
   "metadata": {},
   "outputs": [
    {
     "name": "stdout",
     "output_type": "stream",
     "text": [
      "BLEU1: 27.090\n",
      "BLEU4: 7.546\n"
     ]
    }
   ],
   "source": [
    "# load data\n",
    "en_file = codecs.open('../clean/en_zu/enzu_parallel.test.en', 'r')\n",
    "zu_file = codecs.open('../clean/en_zu/enzu_parallel.test.zu', 'r')\n",
    "\n",
    "en_sents = [re.sub(' +', ' ', line.rstrip(' \\n')) for line in en_file.readlines()]\n",
    "zu_sents = [re.sub(' +', ' ', line.rstrip(' \\n')) for line in zu_file.readlines()]\n",
    "\n",
    "# translate\n",
    "if not os.path.exists('./translated.zu'):\n",
    "    trans_file = codecs.open('./translated.zu','w')\n",
    "    \n",
    "    # translate 20 sentences at a time\n",
    "    translate_client = translate.Client()\n",
    "    target = 'zu'\n",
    "    for i in range(0, len(en_sents) // 20):\n",
    "        translations = translate_client.translate(\n",
    "            en_sents[i*20:(i+1)*20],\n",
    "            target_language=target,\n",
    "            source_language='en'\n",
    "        )\n",
    "\n",
    "        for translation in translations:\n",
    "            trans_file.write(translation['translatedText'])\n",
    "            trans_file.write('\\n')\n",
    "\n",
    "        print(\"Translated %d sentences\" %((i+1)*20))\n",
    "        sleep(1.5)\n",
    "        \n",
    "    trans_file.close()\n",
    "    \n",
    "# calculate bleu score\n",
    "trans_file = codecs.open('./translated.zu', 'r')\n",
    "trans_sents = [line.rstrip('\\n').split(' ') for line in trans_file.readlines()]\n",
    "num_trans = len(trans_sents)\n",
    "\n",
    "zu_refs = [[re.sub(r'\\s+([?.!,\"])', r'\\1', line).split(' ')] for line in zu_sents]\n",
    "\n",
    "bleu_1 = corpus_bleu(zu_refs[:num_trans], trans_sents, weights=(1, 0, 0, 0))*100\n",
    "bleu_4 = corpus_bleu(zu_refs[:num_trans], trans_sents)*100\n",
    "\n",
    "print('BLEU1: %.3f' %bleu_1)\n",
    "print('BLEU4: %.3f' %bleu_4)\n",
    "\n",
    "trans_file.close()\n",
    "en_file.close()\n",
    "zu_file.close()"
   ]
  },
  {
   "cell_type": "code",
   "execution_count": 15,
   "metadata": {},
   "outputs": [
    {
     "data": {
      "text/plain": [
       "2880"
      ]
     },
     "execution_count": 15,
     "metadata": {},
     "output_type": "execute_result"
    }
   ],
   "source": [
    "num_trans"
   ]
  },
  {
   "cell_type": "code",
   "execution_count": 37,
   "metadata": {},
   "outputs": [
    {
     "name": "stdout",
     "output_type": "stream",
     "text": [
      "CS .0171 Annual contract for the supply , delivery , installation , testing and commissioning of fibre network monitoring system for 12/24/36 month period Closing date: 18 May 2007\n",
      "[['CS.0171', 'Inkontileka', 'yonyaka', 'yokuthengisela,', 'ukudiliva,', 'ukufaka,', 'ukuhlola', 'nokubeka', 'esimweni', 'sokusebenza', 'i-fibre', 'network', 'monitoring', 'system', 'izinyanga', 'ezingu', '12/24/36', 'Kuvalwa:', '18', 'Meyi', '2007']]\n",
      "['CS', '.0171', 'Inkontileka', 'yonyaka', 'yokuhlinzeka,', 'ukulethwa,', 'ukufakwa,', 'ukuhlolwa', 'nokuthunyelwa', 'kohlelo', 'lokuqapha', 'kwenethiwekhi', 'ye-fibre', 'ngo', '12/24/36', 'inyanga', 'inyanga', 'yokuvalwa:', '18', 'Meyi', '2007']\n",
      "2.6616657200018398e-76\n"
     ]
    }
   ],
   "source": [
    "n = 65\n",
    "\n",
    "print(en_sents[n])\n",
    "print(zu_refs[n])\n",
    "print(trans_sents[n])\n",
    "print(sentence_bleu(zu_refs[n], trans_sents[n])*100)\n"
   ]
  },
  {
   "cell_type": "code",
   "execution_count": 107,
   "metadata": {},
   "outputs": [
    {
     "data": {
      "text/plain": [
       "'Imibhalo yamathenda itholakala eThekwini Electricity , 1 Jelf Taylor Crescent , Durban ngo 08:00 kuya ku 15:00 , ngeMisombuluko kuya'"
      ]
     },
     "execution_count": 107,
     "metadata": {},
     "output_type": "execute_result"
    }
   ],
   "source": [
    "zu_sents[0]"
   ]
  },
  {
   "cell_type": "markdown",
   "metadata": {},
   "source": [
    "# Afrikaans"
   ]
  },
  {
   "cell_type": "code",
   "execution_count": null,
   "metadata": {},
   "outputs": [
    {
     "name": "stdout",
     "output_type": "stream",
     "text": [
      "Translated 20 sentences\n",
      "Translated 40 sentences\n",
      "Translated 60 sentences\n",
      "Translated 80 sentences\n",
      "Translated 100 sentences\n",
      "Translated 120 sentences\n",
      "Translated 140 sentences\n",
      "Translated 160 sentences\n",
      "Translated 180 sentences\n",
      "Translated 200 sentences\n",
      "Translated 220 sentences\n",
      "Translated 240 sentences\n",
      "Translated 260 sentences\n",
      "Translated 280 sentences\n",
      "Translated 300 sentences\n",
      "Translated 320 sentences\n",
      "Translated 340 sentences\n",
      "Translated 360 sentences\n",
      "Translated 380 sentences\n",
      "Translated 400 sentences\n",
      "Translated 420 sentences\n",
      "Translated 440 sentences\n",
      "Translated 460 sentences\n",
      "Translated 480 sentences\n",
      "Translated 500 sentences\n",
      "Translated 520 sentences\n",
      "Translated 540 sentences\n",
      "Translated 560 sentences\n",
      "Translated 580 sentences\n",
      "Translated 600 sentences\n",
      "Translated 620 sentences\n",
      "Translated 640 sentences\n",
      "Translated 660 sentences\n",
      "Translated 680 sentences\n",
      "Translated 700 sentences\n",
      "Translated 720 sentences\n",
      "Translated 740 sentences\n",
      "Translated 760 sentences\n",
      "Translated 780 sentences\n",
      "Translated 800 sentences\n",
      "Translated 820 sentences\n",
      "Translated 840 sentences\n",
      "Translated 860 sentences\n",
      "Translated 880 sentences\n",
      "Translated 900 sentences\n",
      "Translated 920 sentences\n",
      "Translated 940 sentences\n",
      "Translated 960 sentences\n",
      "Translated 980 sentences\n",
      "Translated 1000 sentences\n",
      "Translated 1020 sentences\n",
      "Translated 1040 sentences\n",
      "Translated 1060 sentences\n",
      "Translated 1080 sentences\n",
      "Translated 1100 sentences\n",
      "Translated 1120 sentences\n",
      "Translated 1140 sentences\n",
      "Translated 1160 sentences\n",
      "Translated 1180 sentences\n",
      "Translated 1200 sentences\n",
      "Translated 1220 sentences\n",
      "Translated 1240 sentences\n",
      "Translated 1260 sentences\n",
      "Translated 1280 sentences\n",
      "Translated 1300 sentences\n",
      "Translated 1320 sentences\n",
      "Translated 1340 sentences\n",
      "Translated 1360 sentences\n",
      "Translated 1380 sentences\n",
      "Translated 1400 sentences\n",
      "Translated 1420 sentences\n",
      "Translated 1440 sentences\n",
      "Translated 1460 sentences\n",
      "Translated 1480 sentences\n",
      "Translated 1500 sentences\n",
      "Translated 1520 sentences\n",
      "Translated 1540 sentences\n",
      "Translated 1560 sentences\n",
      "Translated 1580 sentences\n",
      "Translated 1600 sentences\n",
      "Translated 1620 sentences\n",
      "Translated 1640 sentences\n",
      "Translated 1660 sentences\n",
      "Translated 1680 sentences\n",
      "Translated 1700 sentences\n",
      "Translated 1720 sentences\n",
      "Translated 1740 sentences\n",
      "Translated 1760 sentences\n",
      "Translated 1780 sentences\n",
      "Translated 1800 sentences\n",
      "Translated 1820 sentences\n",
      "Translated 1840 sentences\n",
      "Translated 1860 sentences\n",
      "Translated 1880 sentences\n",
      "Translated 1900 sentences\n",
      "Translated 1920 sentences\n",
      "Translated 1940 sentences\n",
      "Translated 1960 sentences\n",
      "Translated 1980 sentences\n",
      "Translated 2000 sentences\n",
      "Translated 2020 sentences\n",
      "Translated 2040 sentences\n",
      "Translated 2060 sentences\n",
      "Translated 2080 sentences\n",
      "Translated 2100 sentences\n",
      "Translated 2120 sentences\n",
      "Translated 2140 sentences\n",
      "Translated 2160 sentences\n",
      "Translated 2180 sentences\n",
      "Translated 2200 sentences\n",
      "Translated 2220 sentences\n",
      "Translated 2240 sentences\n",
      "Translated 2260 sentences\n",
      "Translated 2280 sentences\n",
      "Translated 2300 sentences\n",
      "Translated 2320 sentences\n",
      "Translated 2340 sentences\n",
      "Translated 2360 sentences\n",
      "Translated 2380 sentences\n",
      "Translated 2400 sentences\n",
      "Translated 2420 sentences\n",
      "Translated 2440 sentences\n",
      "Translated 2460 sentences\n",
      "Translated 2480 sentences\n",
      "Translated 2500 sentences\n",
      "Translated 2520 sentences\n",
      "Translated 2540 sentences\n",
      "Translated 2560 sentences\n",
      "Translated 2580 sentences\n",
      "Translated 2600 sentences\n",
      "Translated 2620 sentences\n",
      "Translated 2640 sentences\n",
      "Translated 2660 sentences\n",
      "Translated 2680 sentences\n",
      "Translated 2700 sentences\n",
      "Translated 2720 sentences\n",
      "Translated 2740 sentences\n",
      "Translated 2760 sentences\n",
      "Translated 2780 sentences\n"
     ]
    }
   ],
   "source": [
    "# load data\n",
    "en_file = codecs.open('../clean/en_af/enaf_parallel.test.en', 'r', 'utf-8')\n",
    "af_file = codecs.open('../clean/en_af/enaf_parallel.test.af', 'r', 'utf-8')\n",
    "\n",
    "en_sents = [re.sub(' +', ' ', line.rstrip(' \\n')) for line in en_file.readlines()]\n",
    "af_sents = [re.sub(' +', ' ', line.rstrip(' \\n')) for line in af_file.readlines()]\n",
    "\n",
    "# translate\n",
    "if not os.path.exists('./translated.af'):\n",
    "    trans_file = codecs.open('./translated.af','w', 'utf-8')\n",
    "    \n",
    "    # translate 20 sentences at a time\n",
    "    translate_client = translate.Client()\n",
    "    target = 'af'\n",
    "    for i in range(0, len(en_sents) // 20):\n",
    "        translations = translate_client.translate(\n",
    "            en_sents[i*20:(i+1)*20],\n",
    "            target_language=target,\n",
    "            source_language='en'\n",
    "        )\n",
    "\n",
    "        for translation in translations:\n",
    "            trans_file.write(translation['translatedText'])\n",
    "            trans_file.write('\\n')\n",
    "\n",
    "        print(\"Translated %d sentences\" %((i+1)*20))\n",
    "        sleep(2)\n",
    "        \n",
    "    trans_file.close()\n",
    "    \n",
    "# calculate bleu score\n",
    "trans_file = codecs.open('./translated.af', 'r')\n",
    "trans_sents = [line.rstrip('\\n').split(' ') for line in trans_file.readlines()]\n",
    "num_trans = len(trans_sents)\n",
    "\n",
    "af_refs = [[re.sub(r'\\s+([?.!,\"])', r'\\1', line).split(' ')] for line in af_sents]\n",
    "\n",
    "bleu_1 = corpus_bleu(af_refs[:num_trans], trans_sents, weights=(1, 0, 0, 0))*100\n",
    "bleu_4 = corpus_bleu(af_refs[:num_trans], trans_sents)*100\n",
    "\n",
    "print('BLEU1: %.3f' %bleu_1)\n",
    "print('BLEU4: %.3f' %bleu_4)\n",
    "\n",
    "trans_file.close()\n",
    "en_file.close()\n",
    "zu_file.close()"
   ]
  },
  {
   "cell_type": "code",
   "execution_count": 15,
   "metadata": {},
   "outputs": [
    {
     "data": {
      "text/plain": [
       "2880"
      ]
     },
     "execution_count": 15,
     "metadata": {},
     "output_type": "execute_result"
    }
   ],
   "source": [
    "num_trans"
   ]
  },
  {
   "cell_type": "code",
   "execution_count": 37,
   "metadata": {},
   "outputs": [
    {
     "name": "stdout",
     "output_type": "stream",
     "text": [
      "CS .0171 Annual contract for the supply , delivery , installation , testing and commissioning of fibre network monitoring system for 12/24/36 month period Closing date: 18 May 2007\n",
      "[['CS.0171', 'Inkontileka', 'yonyaka', 'yokuthengisela,', 'ukudiliva,', 'ukufaka,', 'ukuhlola', 'nokubeka', 'esimweni', 'sokusebenza', 'i-fibre', 'network', 'monitoring', 'system', 'izinyanga', 'ezingu', '12/24/36', 'Kuvalwa:', '18', 'Meyi', '2007']]\n",
      "['CS', '.0171', 'Inkontileka', 'yonyaka', 'yokuhlinzeka,', 'ukulethwa,', 'ukufakwa,', 'ukuhlolwa', 'nokuthunyelwa', 'kohlelo', 'lokuqapha', 'kwenethiwekhi', 'ye-fibre', 'ngo', '12/24/36', 'inyanga', 'inyanga', 'yokuvalwa:', '18', 'Meyi', '2007']\n",
      "2.6616657200018398e-76\n"
     ]
    }
   ],
   "source": [
    "n = 65\n",
    "\n",
    "print(en_sents[n])\n",
    "print(af_refs[n])\n",
    "print(trans_sents[n])\n",
    "print(sentence_bleu(af_refs[n], trans_sents[n])*100)\n"
   ]
  },
  {
   "cell_type": "code",
   "execution_count": 107,
   "metadata": {},
   "outputs": [
    {
     "data": {
      "text/plain": [
       "'Imibhalo yamathenda itholakala eThekwini Electricity , 1 Jelf Taylor Crescent , Durban ngo 08:00 kuya ku 15:00 , ngeMisombuluko kuya'"
      ]
     },
     "execution_count": 107,
     "metadata": {},
     "output_type": "execute_result"
    }
   ],
   "source": [
    "zu_sents[0]"
   ]
  }
 ],
 "metadata": {
  "kernelspec": {
   "display_name": "Python 3",
   "language": "python",
   "name": "python3"
  },
  "language_info": {
   "codemirror_mode": {
    "name": "ipython",
    "version": 3
   },
   "file_extension": ".py",
   "mimetype": "text/x-python",
   "name": "python",
   "nbconvert_exporter": "python",
   "pygments_lexer": "ipython3",
   "version": "3.7.1"
  }
 },
 "nbformat": 4,
 "nbformat_minor": 2
}
