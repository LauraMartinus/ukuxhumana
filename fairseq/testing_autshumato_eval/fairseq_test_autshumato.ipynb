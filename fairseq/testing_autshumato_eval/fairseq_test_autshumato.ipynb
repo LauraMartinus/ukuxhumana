{
 "cells": [
  {
   "cell_type": "markdown",
   "metadata": {},
   "source": [
    "## Pytorch and Fairseq Installation"
   ]
  },
  {
   "cell_type": "code",
   "execution_count": null,
   "metadata": {
    "collapsed": true
   },
   "outputs": [],
   "source": [
    "import torch\n",
    "!git clone https://github.com/pytorch/fairseq.git\n",
    "import os\n",
    "os.chdir(\"fairseq/\")\n",
    "!pip install -r requirements.txt\n",
    "%run -i 'setup.py' build develop"
   ]
  },
  {
   "cell_type": "markdown",
   "metadata": {
    "collapsed": true
   },
   "source": [
    "## Subword"
   ]
  },
  {
   "cell_type": "code",
   "execution_count": null,
   "metadata": {
    "collapsed": true
   },
   "outputs": [],
   "source": [
    "!git clone https://github.com/rsennrich/subword-nmt"
   ]
  },
  {
   "cell_type": "markdown",
   "metadata": {
    "collapsed": true
   },
   "source": [
    "## Prep the Data"
   ]
  },
  {
   "cell_type": "code",
   "execution_count": null,
   "metadata": {
    "collapsed": true
   },
   "outputs": [],
   "source": [
    "os.chdir('../')\n",
    "!cat english.txt afrikaans.txt > combine.txt\n",
    "!fairseq/subword-nmt/learn_bpe.py -s 4000 <combine.txt> enaf.codes\n",
    "\n",
    "!fairseq/subword-nmt/apply_bpe.py -c enaf.codes < english.txt > test.en\n",
    "!fairseq/subword-nmt/apply_bpe.py -c enaf.codes < afrikaans.txt > test.af"
   ]
  },
  {
   "cell_type": "code",
   "execution_count": null,
   "metadata": {
    "collapsed": true
   },
   "outputs": [],
   "source": [
    "os.chdir('fairseq/')\n",
    "TEXT=\"..\"\n",
    "%run 'preprocess.py' --source-lang en --target-lang af --testpref $TEXT/test --destdir data-bin/enaf\n"
   ]
  },
  {
   "cell_type": "markdown",
   "metadata": {},
   "source": [
    "## Run Test Set"
   ]
  },
  {
   "cell_type": "code",
   "execution_count": null,
   "metadata": {
    "collapsed": true
   },
   "outputs": [],
   "source": [
    "output = %run 'generate.py' data-bin/enaf --path afr_checkpoint_best.pt --beam 5 --batch-size 128 --remove-bpe --source-lang en --target-lang af"
   ]
  },
  {
   "cell_type": "code",
   "execution_count": null,
   "metadata": {
    "collapsed": true
   },
   "outputs": [],
   "source": []
  }
 ],
 "metadata": {
  "kernelspec": {
   "display_name": "Python 3",
   "language": "python",
   "name": "python3"
  },
  "language_info": {
   "codemirror_mode": {
    "name": "ipython",
    "version": 3
   },
   "file_extension": ".py",
   "mimetype": "text/x-python",
   "name": "python",
   "nbconvert_exporter": "python",
   "pygments_lexer": "ipython3",
   "version": "3.6.3"
  }
 },
 "nbformat": 4,
 "nbformat_minor": 2
}
