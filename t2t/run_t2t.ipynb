{
  "nbformat": 4,
  "nbformat_minor": 0,
  "metadata": {
    "colab": {
      "name": "run_t2t.ipynb",
      "version": "0.3.2",
      "provenance": [],
      "include_colab_link": true
    },
    "kernelspec": {
      "name": "python2",
      "display_name": "Python 2"
    },
    "accelerator": "TPU"
  },
  "cells": [
    {
      "cell_type": "markdown",
      "metadata": {
        "id": "view-in-github",
        "colab_type": "text"
      },
      "source": [
        "<a href=\"https://colab.research.google.com/github/LauraMartinus/ukuxhumana/blob/master/t2t/run_t2t.ipynb\" target=\"_parent\"><img src=\"https://colab.research.google.com/assets/colab-badge.svg\" alt=\"Open In Colab\"/></a>"
      ]
    },
    {
      "metadata": {
        "id": "ubqWdulRJusY",
        "colab_type": "code",
        "colab": {
          "base_uri": "https://localhost:8080/",
          "height": 1423
        },
        "outputId": "446a2371-631e-4a5e-d388-1cdef6fa79c2"
      },
      "cell_type": "code",
      "source": [
        "!pip install tensor2tensor"
      ],
      "execution_count": 1,
      "outputs": [
        {
          "output_type": "stream",
          "text": [
            "Collecting tensor2tensor\n",
            "\u001b[?25l  Downloading https://files.pythonhosted.org/packages/ea/a9/c10b5283edbea85f4eb5a99d58a9edb43e764075dbc3fb50cae979ade845/tensor2tensor-1.11.0-py2.py3-none-any.whl (1.1MB)\n",
            "\u001b[K    100% |████████████████████████████████| 1.1MB 8.9MB/s \n",
            "\u001b[?25hRequirement already satisfied: six in /usr/local/lib/python2.7/dist-packages (from tensor2tensor) (1.11.0)\n",
            "Requirement already satisfied: numpy in /usr/local/lib/python2.7/dist-packages (from tensor2tensor) (1.14.6)\n",
            "Requirement already satisfied: requests in /usr/local/lib/python2.7/dist-packages (from tensor2tensor) (2.18.4)\n",
            "Collecting flask (from tensor2tensor)\n",
            "\u001b[?25l  Downloading https://files.pythonhosted.org/packages/7f/e7/08578774ed4536d3242b14dacb4696386634607af824ea997202cd0edb4b/Flask-1.0.2-py2.py3-none-any.whl (91kB)\n",
            "\u001b[K    100% |████████████████████████████████| 92kB 23.0MB/s \n",
            "\u001b[?25hCollecting gunicorn (from tensor2tensor)\n",
            "\u001b[?25l  Downloading https://files.pythonhosted.org/packages/8c/da/b8dd8deb741bff556db53902d4706774c8e1e67265f69528c14c003644e6/gunicorn-19.9.0-py2.py3-none-any.whl (112kB)\n",
            "\u001b[K    100% |████████████████████████████████| 122kB 11.6MB/s \n",
            "\u001b[?25hRequirement already satisfied: oauth2client in /usr/local/lib/python2.7/dist-packages (from tensor2tensor) (4.1.3)\n",
            "Collecting mesh-tensorflow (from tensor2tensor)\n",
            "\u001b[?25l  Downloading https://files.pythonhosted.org/packages/32/49/0cfeef540bcf3675a794dc21bebfeae1ce001cf8bfc5d012de887d70834e/mesh_tensorflow-0.0.4-py2.py3-none-any.whl (70kB)\n",
            "\u001b[K    100% |████████████████████████████████| 71kB 16.8MB/s \n",
            "\u001b[?25hCollecting tfds-nightly (from tensor2tensor)\n",
            "\u001b[?25l  Downloading https://files.pythonhosted.org/packages/a6/83/be0556b633544c7edafdf85466336c1c2f8fffa2af06d7006c6f4f54f96e/tfds_nightly-0.0.1.dev201811180013-py2.py3-none-any.whl (122kB)\n",
            "\u001b[K    100% |████████████████████████████████| 122kB 15.8MB/s \n",
            "\u001b[?25hRequirement already satisfied: google-api-python-client in /usr/local/lib/python2.7/dist-packages (from tensor2tensor) (1.6.7)\n",
            "Requirement already satisfied: tqdm in /usr/local/lib/python2.7/dist-packages (from tensor2tensor) (4.28.1)\n",
            "Collecting bz2file (from tensor2tensor)\n",
            "  Downloading https://files.pythonhosted.org/packages/61/39/122222b5e85cd41c391b68a99ee296584b2a2d1d233e7ee32b4532384f2d/bz2file-0.98.tar.gz\n",
            "Collecting gevent (from tensor2tensor)\n",
            "\u001b[?25l  Downloading https://files.pythonhosted.org/packages/40/4f/222cefc08c1ffda69454908496e46c32f7b82da30ade4861178c6a72405e/gevent-1.3.7-cp27-cp27mu-manylinux1_x86_64.whl (4.2MB)\n",
            "\u001b[K    100% |████████████████████████████████| 4.2MB 4.0MB/s \n",
            "\u001b[?25hRequirement already satisfied: sympy in /usr/local/lib/python2.7/dist-packages (from tensor2tensor) (1.1.1)\n",
            "Collecting gym (from tensor2tensor)\n",
            "\u001b[?25l  Downloading https://files.pythonhosted.org/packages/d4/22/4ff09745ade385ffe707fb5f053548f0f6a6e7d5e98a2b9d6c07f5b931a7/gym-0.10.9.tar.gz (1.5MB)\n",
            "\u001b[K    100% |████████████████████████████████| 1.5MB 14.4MB/s \n",
            "\u001b[?25hCollecting tensorflow-probability (from tensor2tensor)\n",
            "\u001b[?25l  Downloading https://files.pythonhosted.org/packages/a1/ca/6f213618b5f7d0bf6139e6ec928d412a5ca14e4776adfd41a59c74a34021/tensorflow_probability-0.5.0-py2.py3-none-any.whl (680kB)\n",
            "\u001b[K    100% |████████████████████████████████| 686kB 17.6MB/s \n",
            "\u001b[?25hRequirement already satisfied: h5py in /usr/local/lib/python2.7/dist-packages (from tensor2tensor) (2.8.0)\n",
            "Requirement already satisfied: future in /usr/local/lib/python2.7/dist-packages (from tensor2tensor) (0.16.0)\n",
            "Requirement already satisfied: scipy in /usr/local/lib/python2.7/dist-packages (from tensor2tensor) (1.1.0)\n",
            "Requirement already satisfied: idna<2.7,>=2.5 in /usr/local/lib/python2.7/dist-packages (from requests->tensor2tensor) (2.6)\n",
            "Requirement already satisfied: urllib3<1.23,>=1.21.1 in /usr/local/lib/python2.7/dist-packages (from requests->tensor2tensor) (1.22)\n",
            "Requirement already satisfied: certifi>=2017.4.17 in /usr/local/lib/python2.7/dist-packages (from requests->tensor2tensor) (2018.10.15)\n",
            "Requirement already satisfied: chardet<3.1.0,>=3.0.2 in /usr/local/lib/python2.7/dist-packages (from requests->tensor2tensor) (3.0.4)\n",
            "Requirement already satisfied: Werkzeug>=0.14 in /usr/local/lib/python2.7/dist-packages (from flask->tensor2tensor) (0.14.1)\n",
            "Collecting click>=5.1 (from flask->tensor2tensor)\n",
            "\u001b[?25l  Downloading https://files.pythonhosted.org/packages/fa/37/45185cb5abbc30d7257104c434fe0b07e5a195a6847506c074527aa599ec/Click-7.0-py2.py3-none-any.whl (81kB)\n",
            "\u001b[K    100% |████████████████████████████████| 81kB 23.1MB/s \n",
            "\u001b[?25hRequirement already satisfied: Jinja2>=2.10 in /usr/local/lib/python2.7/dist-packages (from flask->tensor2tensor) (2.10)\n",
            "Collecting itsdangerous>=0.24 (from flask->tensor2tensor)\n",
            "  Downloading https://files.pythonhosted.org/packages/76/ae/44b03b253d6fade317f32c24d100b3b35c2239807046a4c953c7b89fa49e/itsdangerous-1.1.0-py2.py3-none-any.whl\n",
            "Requirement already satisfied: httplib2>=0.9.1 in /usr/local/lib/python2.7/dist-packages (from oauth2client->tensor2tensor) (0.11.3)\n",
            "Requirement already satisfied: rsa>=3.1.4 in /usr/local/lib/python2.7/dist-packages (from oauth2client->tensor2tensor) (4.0)\n",
            "Requirement already satisfied: pyasn1>=0.1.7 in /usr/local/lib/python2.7/dist-packages (from oauth2client->tensor2tensor) (0.4.4)\n",
            "Requirement already satisfied: pyasn1-modules>=0.0.5 in /usr/local/lib/python2.7/dist-packages (from oauth2client->tensor2tensor) (0.2.2)\n",
            "Requirement already satisfied: futures in /usr/local/lib/python2.7/dist-packages (from tfds-nightly->tensor2tensor) (3.2.0)\n",
            "Requirement already satisfied: wrapt in /usr/local/lib/python2.7/dist-packages (from tfds-nightly->tensor2tensor) (1.10.11)\n",
            "Requirement already satisfied: protobuf in /usr/local/lib/python2.7/dist-packages (from tfds-nightly->tensor2tensor) (3.6.1)\n",
            "Collecting tensorflow-metadata (from tfds-nightly->tensor2tensor)\n",
            "  Downloading https://files.pythonhosted.org/packages/dc/a7/e68bb7b86b51f0bdb854909e9a5490f09d7f064e901f8eccaa943cd3e363/tensorflow_metadata-0.9.0-py2.py3-none-any.whl\n",
            "Requirement already satisfied: termcolor in /usr/local/lib/python2.7/dist-packages (from tfds-nightly->tensor2tensor) (1.1.0)\n",
            "Requirement already satisfied: pytz in /usr/local/lib/python2.7/dist-packages (from tfds-nightly->tensor2tensor) (2018.7)\n",
            "Requirement already satisfied: enum34 in /usr/local/lib/python2.7/dist-packages (from tfds-nightly->tensor2tensor) (1.1.6)\n",
            "Requirement already satisfied: uritemplate<4dev,>=3.0.0 in /usr/local/lib/python2.7/dist-packages (from google-api-python-client->tensor2tensor) (3.0.0)\n",
            "Collecting greenlet>=0.4.14; platform_python_implementation == \"CPython\" (from gevent->tensor2tensor)\n",
            "  Downloading https://files.pythonhosted.org/packages/8b/6e/f2d25875713ad0885c8d3c69269697406652e6f64e1a6bd8264f7a609327/greenlet-0.4.15-cp27-cp27mu-manylinux1_x86_64.whl\n",
            "Requirement already satisfied: mpmath>=0.19 in /usr/local/lib/python2.7/dist-packages (from sympy->tensor2tensor) (1.0.0)\n",
            "Collecting pyglet>=1.2.0 (from gym->tensor2tensor)\n",
            "\u001b[?25l  Downloading https://files.pythonhosted.org/packages/1c/fc/dad5eaaab68f0c21e2f906a94ddb98175662cc5a654eee404d59554ce0fa/pyglet-1.3.2-py2.py3-none-any.whl (1.0MB)\n",
            "\u001b[K    100% |████████████████████████████████| 1.0MB 14.8MB/s \n",
            "\u001b[?25hRequirement already satisfied: MarkupSafe>=0.23 in /usr/local/lib/python2.7/dist-packages (from Jinja2>=2.10->flask->tensor2tensor) (1.1.0)\n",
            "Requirement already satisfied: setuptools in /usr/local/lib/python2.7/dist-packages (from protobuf->tfds-nightly->tensor2tensor) (40.6.2)\n",
            "Requirement already satisfied: googleapis-common-protos in /usr/local/lib/python2.7/dist-packages (from tensorflow-metadata->tfds-nightly->tensor2tensor) (1.5.5)\n",
            "Building wheels for collected packages: bz2file, gym\n",
            "  Running setup.py bdist_wheel for bz2file ... \u001b[?25l-\b \bdone\n",
            "\u001b[?25h  Stored in directory: /root/.cache/pip/wheels/81/75/d6/e1317bf09bf1af5a30befc2a007869fa6e1f516b8f7c591cb9\n",
            "  Running setup.py bdist_wheel for gym ... \u001b[?25l-\b \b\\\b \b|\b \bdone\n",
            "\u001b[?25h  Stored in directory: /root/.cache/pip/wheels/6c/3a/0e/b86dee98876bb56cdb482cc1f72201035e46d1baf69d10d028\n",
            "Successfully built bz2file gym\n",
            "Installing collected packages: click, itsdangerous, flask, gunicorn, mesh-tensorflow, tensorflow-metadata, tfds-nightly, bz2file, greenlet, gevent, pyglet, gym, tensorflow-probability, tensor2tensor\n",
            "Successfully installed bz2file-0.98 click-7.0 flask-1.0.2 gevent-1.3.7 greenlet-0.4.15 gunicorn-19.9.0 gym-0.10.9 itsdangerous-1.1.0 mesh-tensorflow-0.0.4 pyglet-1.3.2 tensor2tensor-1.11.0 tensorflow-metadata-0.9.0 tensorflow-probability-0.5.0 tfds-nightly-0.0.1.dev201811180013\n"
          ],
          "name": "stdout"
        }
      ]
    },
    {
      "metadata": {
        "id": "EGz4ipjjJ5NH",
        "colab_type": "code",
        "colab": {
          "base_uri": "https://localhost:8080/",
          "height": 315
        },
        "outputId": "c101ad06-43c2-4b2b-bde8-6ec8e314f1e5"
      },
      "cell_type": "code",
      "source": [
        "from t2t import t2t_problem"
      ],
      "execution_count": 4,
      "outputs": [
        {
          "output_type": "error",
          "ename": "ImportError",
          "evalue": "ignored",
          "traceback": [
            "\u001b[0;31m\u001b[0m",
            "\u001b[0;31mImportError\u001b[0mTraceback (most recent call last)",
            "\u001b[0;32m<ipython-input-4-75890c077c90>\u001b[0m in \u001b[0;36m<module>\u001b[0;34m()\u001b[0m\n\u001b[0;32m----> 1\u001b[0;31m \u001b[0;32mfrom\u001b[0m \u001b[0mt2t\u001b[0m \u001b[0;32mimport\u001b[0m \u001b[0mt2t_problem\u001b[0m\u001b[0;34m\u001b[0m\u001b[0m\n\u001b[0m",
            "\u001b[0;31mImportError\u001b[0m: No module named t2t",
            "",
            "\u001b[0;31m---------------------------------------------------------------------------\u001b[0;32m\nNOTE: If your import is failing due to a missing package, you can\nmanually install dependencies using either !pip or !apt.\n\nTo view examples of installing some common dependencies, click the\n\"Open Examples\" button below.\n\u001b[0;31m---------------------------------------------------------------------------\u001b[0m\n"
          ]
        }
      ]
    },
    {
      "metadata": {
        "id": "PrzRfnhxJ5aq",
        "colab_type": "code",
        "colab": {}
      },
      "cell_type": "code",
      "source": [
        ""
      ],
      "execution_count": 0,
      "outputs": []
    },
    {
      "metadata": {
        "id": "ocrh2I5WKc3z",
        "colab_type": "text"
      },
      "cell_type": "markdown",
      "source": [
        "# New Section"
      ]
    }
  ]
}